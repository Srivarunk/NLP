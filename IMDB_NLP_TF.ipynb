{
 "cells": [
  {
   "cell_type": "code",
   "execution_count": null,
   "metadata": {
    "colab": {},
    "colab_type": "code",
    "id": "fFTOgKxBSJ28"
   },
   "outputs": [],
   "source": [
    "#!pip install tensorflow-gpu"
   ]
  },
  {
   "cell_type": "code",
   "execution_count": 2,
   "metadata": {
    "colab": {
     "base_uri": "https://localhost:8080/",
     "height": 35
    },
    "colab_type": "code",
    "id": "ltAM57KqQHx9",
    "outputId": "7f32072b-2216-4b46-9e2a-510f52cf7be8"
   },
   "outputs": [
    {
     "name": "stdout",
     "output_type": "stream",
     "text": [
      "2.0.0\n"
     ]
    }
   ],
   "source": [
    "import tensorflow as tf\n",
    "#tf.enable_eager_execution()\n",
    "print(tf.__version__)"
   ]
  },
  {
   "cell_type": "code",
   "execution_count": 3,
   "metadata": {
    "colab": {},
    "colab_type": "code",
    "id": "Mh7vSzV9RIwQ"
   },
   "outputs": [],
   "source": [
    "import tensorflow_datasets as tfds\n",
    "imdb,info = tfds.load('imdb_reviews', with_info = True, as_supervised = True)\n"
   ]
  },
  {
   "cell_type": "code",
   "execution_count": 4,
   "metadata": {
    "colab": {},
    "colab_type": "code",
    "id": "cl6uO4tARJ2j"
   },
   "outputs": [],
   "source": [
    "train_data, test_data = imdb['train'], imdb['test']\n",
    "train_s = []\n",
    "train_l = []\n",
    "\n",
    "test_s = []\n",
    "test_l = []\n",
    "\n",
    "for s,l in train_data:\n",
    "  train_s.append(str(s.numpy()))\n",
    "  train_l.append(l.numpy())\n",
    "\n",
    "for s,l in test_data:\n",
    "  test_s.append(str(s.numpy()))\n",
    "  test_l.append(l.numpy())\n"
   ]
  },
  {
   "cell_type": "code",
   "execution_count": 5,
   "metadata": {
    "colab": {},
    "colab_type": "code",
    "id": "Dd1FEtAERMgY"
   },
   "outputs": [],
   "source": [
    "import numpy as np\n",
    "training_l_final = np.array(train_l)\n",
    "testing_l_final = np.array(test_l)\n",
    "\n"
   ]
  },
  {
   "cell_type": "code",
   "execution_count": 6,
   "metadata": {
    "colab": {},
    "colab_type": "code",
    "id": "v4ZlJOyHRNFF"
   },
   "outputs": [],
   "source": [
    "from tensorflow.keras.preprocessing.text import Tokenizer\n",
    "from tensorflow.keras.preprocessing.sequence import pad_sequences\n",
    "words = 10000\n",
    "oov = '<OOV>'\n",
    "padding = 'post'\n",
    "length = 120\n",
    "trunc = 'post'\n",
    "\n"
   ]
  },
  {
   "cell_type": "code",
   "execution_count": 7,
   "metadata": {
    "colab": {},
    "colab_type": "code",
    "id": "mOjOdGjtRQGC"
   },
   "outputs": [],
   "source": [
    "tk = Tokenizer(num_words=words,oov_token = oov)\n",
    "tk.fit_on_texts(train_s)\n",
    "wi = tk.word_index \n",
    "train_seq = tk.texts_to_sequences(train_s)\n",
    "train_pad = pad_sequences(train_seq,maxlen = length,padding = padding,truncating=trunc)\n",
    "test_seq = tk.texts_to_sequences(test_s)\n",
    "test_pad = pad_sequences(test_seq,maxlen = length,padding = padding,truncating=trunc)\n",
    "\n"
   ]
  },
  {
   "cell_type": "code",
   "execution_count": 8,
   "metadata": {
    "colab": {},
    "colab_type": "code",
    "id": "dVnct3eBRTeH"
   },
   "outputs": [],
   "source": [
    "# reverse_word_index = dict([(value, key) for (key, value) in word_index.items()])\n",
    "# def decode_review(text):\n",
    "#     return ' '.join([reverse_word_index.get(i, '?') for i in text])\n",
    "# print(decode_review(padded[1]))\n",
    "# print(train_sentences[1])\n"
   ]
  },
  {
   "cell_type": "code",
   "execution_count": 9,
   "metadata": {
    "colab": {
     "base_uri": "https://localhost:8080/",
     "height": 294
    },
    "colab_type": "code",
    "id": "O5V4Yt20RScK",
    "outputId": "a73f119e-5dcb-4613-bf19-f07f93e8ccd3"
   },
   "outputs": [
    {
     "name": "stdout",
     "output_type": "stream",
     "text": [
      "Model: \"sequential\"\n",
      "_________________________________________________________________\n",
      "Layer (type)                 Output Shape              Param #   \n",
      "=================================================================\n",
      "embedding (Embedding)        (None, 120, 16)           160000    \n",
      "_________________________________________________________________\n",
      "flatten (Flatten)            (None, 1920)              0         \n",
      "_________________________________________________________________\n",
      "dense (Dense)                (None, 6)                 11526     \n",
      "_________________________________________________________________\n",
      "dense_1 (Dense)              (None, 1)                 7         \n",
      "=================================================================\n",
      "Total params: 171,533\n",
      "Trainable params: 171,533\n",
      "Non-trainable params: 0\n",
      "_________________________________________________________________\n"
     ]
    }
   ],
   "source": [
    "model = tf.keras.Sequential([\n",
    "    tf.keras.layers.Embedding(words, 16, input_length=length),\n",
    "    tf.keras.layers.Flatten(),\n",
    "    tf.keras.layers.Dense(6, activation='relu'),\n",
    "    tf.keras.layers.Dense(1, activation='sigmoid')\n",
    "])\n",
    "model.compile(loss='binary_crossentropy',optimizer='adam',metrics=['accuracy'])\n",
    "model.summary()\n",
    "\n"
   ]
  },
  {
   "cell_type": "code",
   "execution_count": 10,
   "metadata": {
    "colab": {
     "base_uri": "https://localhost:8080/",
     "height": 397
    },
    "colab_type": "code",
    "id": "m4H-3WOoRVL_",
    "outputId": "22cdd1fc-6af5-4540-e30b-85fea217045b"
   },
   "outputs": [
    {
     "name": "stdout",
     "output_type": "stream",
     "text": [
      "Train on 25000 samples, validate on 25000 samples\n",
      "Epoch 1/10\n",
      "25000/25000 [==============================] - 12s 465us/sample - loss: 0.4845 - accuracy: 0.7454 - val_loss: 0.4098 - val_accuracy: 0.8099\n",
      "Epoch 2/10\n",
      "25000/25000 [==============================] - 8s 328us/sample - loss: 0.2381 - accuracy: 0.9089 - val_loss: 0.4129 - val_accuracy: 0.8196\n",
      "Epoch 3/10\n",
      "25000/25000 [==============================] - 7s 296us/sample - loss: 0.0918 - accuracy: 0.9768 - val_loss: 0.5344 - val_accuracy: 0.8016\n",
      "Epoch 4/10\n",
      "25000/25000 [==============================] - 9s 349us/sample - loss: 0.0228 - accuracy: 0.9970 - val_loss: 0.6103 - val_accuracy: 0.8046\n",
      "Epoch 5/10\n",
      "25000/25000 [==============================] - 10s 403us/sample - loss: 0.0053 - accuracy: 0.9997 - val_loss: 0.6962 - val_accuracy: 0.8044\n",
      "Epoch 6/10\n",
      "25000/25000 [==============================] - 11s 434us/sample - loss: 0.0018 - accuracy: 1.0000 - val_loss: 0.7498 - val_accuracy: 0.8071\n",
      "Epoch 7/10\n",
      "25000/25000 [==============================] - 7s 289us/sample - loss: 8.3490e-04 - accuracy: 1.0000 - val_loss: 0.7986 - val_accuracy: 0.8082\n",
      "Epoch 8/10\n",
      "25000/25000 [==============================] - 7s 297us/sample - loss: 4.5674e-04 - accuracy: 1.0000 - val_loss: 0.8451 - val_accuracy: 0.8084\n",
      "Epoch 9/10\n",
      "25000/25000 [==============================] - 7s 293us/sample - loss: 2.7083e-04 - accuracy: 1.0000 - val_loss: 0.8902 - val_accuracy: 0.8081\n",
      "Epoch 10/10\n",
      "25000/25000 [==============================] - 7s 274us/sample - loss: 1.5771e-04 - accuracy: 1.0000 - val_loss: 0.9386 - val_accuracy: 0.8072\n"
     ]
    },
    {
     "data": {
      "text/plain": [
       "<tensorflow.python.keras.callbacks.History at 0x25612212518>"
      ]
     },
     "execution_count": 10,
     "metadata": {},
     "output_type": "execute_result"
    }
   ],
   "source": [
    "num_epochs = 10\n",
    "model.fit(train_pad, training_l_final, epochs=num_epochs, validation_data=(test_pad, testing_l_final))\n",
    "\n"
   ]
  },
  {
   "cell_type": "code",
   "execution_count": 11,
   "metadata": {
    "colab": {
     "base_uri": "https://localhost:8080/",
     "height": 55
    },
    "colab_type": "code",
    "id": "XmHDc1XrTUzm",
    "outputId": "dd6db1ec-06f7-46bc-ae4e-3745ffc5a61f"
   },
   "outputs": [],
   "source": [
    "reverse_word_index = dict([(value,key) for (key,value) in wi.items()])\n",
    "#print(reverse_word_index)\n"
   ]
  },
  {
   "cell_type": "code",
   "execution_count": 12,
   "metadata": {
    "colab": {
     "base_uri": "https://localhost:8080/",
     "height": 35
    },
    "colab_type": "code",
    "id": "q7jGMq0QTWf7",
    "outputId": "088575d1-e611-4c9f-84c4-714f9268caff"
   },
   "outputs": [
    {
     "name": "stdout",
     "output_type": "stream",
     "text": [
      "(10000, 16)\n"
     ]
    }
   ],
   "source": [
    "e = model.layers[0]\n",
    "weights = e.get_weights()[0]\n",
    "print(weights.shape) # shape: (vocab_size, embedding_dim)\n"
   ]
  },
  {
   "cell_type": "code",
   "execution_count": 13,
   "metadata": {
    "colab": {},
    "colab_type": "code",
    "id": "HEVcNNY2RW8_"
   },
   "outputs": [],
   "source": [
    "import io\n",
    "\n",
    "out_v = io.open('vecs.tsv', 'w', encoding='utf-8')\n",
    "out_m = io.open('meta.tsv', 'w', encoding='utf-8')\n",
    "for word_num in range(1, words):\n",
    "  word = reverse_word_index[word_num]\n",
    "  embeddings = weights[word_num]\n",
    "  out_m.write(word + \"\\n\")\n",
    "  out_v.write('\\t'.join([str(x) for x in embeddings]) + \"\\n\")\n",
    "out_v.close()\n",
    "out_m.close()\n"
   ]
  },
  {
   "cell_type": "code",
   "execution_count": 14,
   "metadata": {
    "colab": {},
    "colab_type": "code",
    "id": "79MjFmFYRYtB"
   },
   "outputs": [],
   "source": [
    "# from google.colab import files\n",
    "# files.download('vecs.tsv')\n",
    "# files.download('meta.tsv')"
   ]
  },
  {
   "cell_type": "code",
   "execution_count": null,
   "metadata": {},
   "outputs": [],
   "source": []
  }
 ],
 "metadata": {
  "accelerator": "GPU",
  "colab": {
   "collapsed_sections": [],
   "name": "IMDB_NLP_TF.ipynb",
   "provenance": []
  },
  "kernelspec": {
   "display_name": "Python 3",
   "language": "python",
   "name": "python3"
  },
  "language_info": {
   "codemirror_mode": {
    "name": "ipython",
    "version": 3
   },
   "file_extension": ".py",
   "mimetype": "text/x-python",
   "name": "python",
   "nbconvert_exporter": "python",
   "pygments_lexer": "ipython3",
   "version": "3.7.3"
  }
 },
 "nbformat": 4,
 "nbformat_minor": 2
}
