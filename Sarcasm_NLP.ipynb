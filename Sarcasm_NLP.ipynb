{
 "cells": [
  {
   "cell_type": "code",
   "execution_count": 12,
   "metadata": {},
   "outputs": [],
   "source": [
    "# import json\n",
    "\n",
    "# def parse_data(file):\n",
    "#     for l in open(file,'r'):\n",
    "#         yield json.loads(l)\n",
    "# data = list(parse_data('Sarcasm_Headlines_Dataset.json'))"
   ]
  },
  {
   "cell_type": "code",
   "execution_count": 27,
   "metadata": {},
   "outputs": [],
   "source": [
    "import json    \n",
    "\n",
    "data = []\n",
    "with open('Sarcasm_Headlines_Dataset.json') as f:\n",
    "    for line in f:\n",
    "        data.append(json.loads(line))\n",
    "\n",
    "sentences = []\n",
    "labels = []\n",
    "urls = []\n",
    "for item in data:\n",
    "    sentences.append(item['headline'])\n",
    "    labels.append(item['is_sarcastic'])\n",
    "    urls.append(item['article_link'])"
   ]
  },
  {
   "cell_type": "code",
   "execution_count": 28,
   "metadata": {},
   "outputs": [],
   "source": [
    "from sklearn.feature_extraction.text import CountVectorizer\n",
    "from sklearn.naive_bayes import MultinomialNB\n",
    "from sklearn.model_selection import train_test_split\n",
    "from sklearn.metrics import classification_report"
   ]
  },
  {
   "cell_type": "code",
   "execution_count": 29,
   "metadata": {},
   "outputs": [
    {
     "name": "stdout",
     "output_type": "stream",
     "text": [
      "              precision    recall  f1-score   support\n",
      "\n",
      "           0       0.85      0.89      0.87      4486\n",
      "           1       0.85      0.79      0.82      3527\n",
      "\n",
      "    accuracy                           0.85      8013\n",
      "   macro avg       0.85      0.84      0.84      8013\n",
      "weighted avg       0.85      0.85      0.85      8013\n",
      "\n"
     ]
    }
   ],
   "source": [
    "X = sentences\n",
    "y = labels\n",
    "cv = CountVectorizer()\n",
    "X = cv.fit_transform(X)\n",
    "X = X.toarray()\n",
    "xtrain,xtest,ytrain,ytest = train_test_split(X,y,test_size = 0.3,random_state = 1)\n",
    "clf = MultinomialNB()\n",
    "clf.fit(xtrain,ytrain)\n",
    "clf.score(xtest,ytest)\n",
    "ypred = clf.predict(xtest)\n",
    "print(classification_report(ytest,ypred))"
   ]
  },
  {
   "cell_type": "code",
   "execution_count": null,
   "metadata": {},
   "outputs": [],
   "source": []
  }
 ],
 "metadata": {
  "kernelspec": {
   "display_name": "Python 3",
   "language": "python",
   "name": "python3"
  },
  "language_info": {
   "codemirror_mode": {
    "name": "ipython",
    "version": 3
   },
   "file_extension": ".py",
   "mimetype": "text/x-python",
   "name": "python",
   "nbconvert_exporter": "python",
   "pygments_lexer": "ipython3",
   "version": "3.7.3"
  }
 },
 "nbformat": 4,
 "nbformat_minor": 2
}
